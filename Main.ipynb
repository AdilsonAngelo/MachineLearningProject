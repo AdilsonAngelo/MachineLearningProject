{
 "cells": [
  {
   "cell_type": "code",
   "execution_count": 1,
   "metadata": {},
   "outputs": [],
   "source": [
    "# imports\n",
    "import pandas as pd\n",
    "import numpy as np\n",
    "from sklearn.neighbors import KNeighborsClassifier\n",
    "from sklearn.model_selection import KFold\n",
    "from datetime import datetime"
   ]
  },
  {
   "cell_type": "code",
   "execution_count": 5,
   "metadata": {},
   "outputs": [],
   "source": [
    "# functions\n",
    "def fk(X, Y, row, k=5):\n",
    "    try:\n",
    "        knn = KNeighborsClassifier(n_neighbors=k, n_jobs=-1)\n",
    "        knn.fit(X, Y)\n",
    "        neighbors = knn.kneighbors([row], n_neighbors=k, return_distance=False)[0]\n",
    "        result =  Y.iloc[neighbors].copy()\n",
    "        result = result.append(Y.loc[[row.name]], ignore_index=False)\n",
    "    except Exception as e:\n",
    "        print('################## ERROR ##################')\n",
    "        print('row.name: ', row.name)\n",
    "        print('neighbors: ', neighbors)\n",
    "        print('dataset size: ', len(X))\n",
    "        raise e\n",
    "    return result.value_counts(normalize=True)\n",
    "\n",
    "\n",
    "def NEk(X, Y, k=5):\n",
    "    S = X.copy()\n",
    "    C = Y.copy()\n",
    "    temp_sum = 0\n",
    "    for index, row in S.iterrows():\n",
    "        freqs = fk(S, C, row, k)\n",
    "        for clss in set(C.values):\n",
    "            try:\n",
    "                freq = freqs.loc[clss]\n",
    "                temp_sum += freq * np.log(freq)\n",
    "            except:\n",
    "                pass\n",
    "    return (- 1/len(S)) * temp_sum\n",
    "\n",
    "\n",
    "def NEFS(X, Y, k=5, s=2):\n",
    "    if s > len(X.columns): raise Exception('s parameter must be less or equal to number of columns in X')\n",
    "    elif s == len(X.columns): return X\n",
    "    F = X.copy()\n",
    "    C = Y.copy()\n",
    "    S = pd.DataFrame()\n",
    "    while not (len(S.columns) == s):\n",
    "        nes = {}\n",
    "        for col in list(F):\n",
    "            Scopy = S.copy()\n",
    "            Scopy[col] = F[col]\n",
    "            nes[col] = NEk(Scopy, C, k)\n",
    "        min_col = min(nes, key=nes.get)\n",
    "        S[min_col] = F[min_col]\n",
    "        F.drop(columns=[min_col], inplace=True)\n",
    "    return S"
   ]
  },
  {
   "cell_type": "code",
   "execution_count": 1,
   "metadata": {
    "code_folding": []
   },
   "outputs": [
    {
     "ename": "NameError",
     "evalue": "name 'datetime' is not defined",
     "output_type": "error",
     "traceback": [
      "\u001b[1;31m---------------------------------------------------------------------------\u001b[0m",
      "\u001b[1;31mNameError\u001b[0m                                 Traceback (most recent call last)",
      "\u001b[1;32m<ipython-input-1-897a24fcd787>\u001b[0m in \u001b[0;36m<module>\u001b[1;34m\u001b[0m\n\u001b[1;32m----> 1\u001b[1;33m \u001b[0mstart\u001b[0m \u001b[1;33m=\u001b[0m \u001b[0mdatetime\u001b[0m\u001b[1;33m.\u001b[0m\u001b[0mnow\u001b[0m\u001b[1;33m(\u001b[0m\u001b[1;33m)\u001b[0m\u001b[1;33m\u001b[0m\u001b[1;33m\u001b[0m\u001b[0m\n\u001b[0m\u001b[0;32m      2\u001b[0m \u001b[0mprint\u001b[0m\u001b[1;33m(\u001b[0m\u001b[1;34mf'start: {start.strftime(\"%H:%M:%S\")}'\u001b[0m\u001b[1;33m)\u001b[0m\u001b[1;33m\u001b[0m\u001b[1;33m\u001b[0m\u001b[0m\n\u001b[0;32m      3\u001b[0m \u001b[1;33m\u001b[0m\u001b[0m\n\u001b[0;32m      4\u001b[0m \u001b[0mds\u001b[0m \u001b[1;33m=\u001b[0m \u001b[0mpd\u001b[0m\u001b[1;33m.\u001b[0m\u001b[0mread_csv\u001b[0m\u001b[1;33m(\u001b[0m\u001b[1;34m'cm1.csv'\u001b[0m\u001b[1;33m)\u001b[0m\u001b[1;33m.\u001b[0m\u001b[0mdropna\u001b[0m\u001b[1;33m(\u001b[0m\u001b[1;33m)\u001b[0m\u001b[1;33m\u001b[0m\u001b[1;33m\u001b[0m\u001b[0m\n\u001b[0;32m      5\u001b[0m \u001b[0mprint\u001b[0m\u001b[1;33m(\u001b[0m\u001b[1;34mf'before removing duplicates: {len(ds)}'\u001b[0m\u001b[1;33m)\u001b[0m\u001b[1;33m\u001b[0m\u001b[1;33m\u001b[0m\u001b[0m\n",
      "\u001b[1;31mNameError\u001b[0m: name 'datetime' is not defined"
     ]
    }
   ],
   "source": [
    "start = datetime.now()\n",
    "print(f'start: {start.strftime(\"%H:%M:%S\")}')\n",
    "\n",
    "ds = pd.read_csv('cm1.csv').dropna()\n",
    "print(f'before removing duplicates: {len(ds)}')\n",
    "ds.drop_duplicates(inplace=True)\n",
    "print(f'after removing duplicates: {len(ds)}')\n",
    "\n",
    "X = ds.drop(columns=['label'])\n",
    "Y = ds.label\n",
    "# print(X.reset_index())\n",
    "\n",
    "main_2 = NEFS(X, Y, k=5, s=2)\n",
    "print(main_2.head())\n",
    "\n",
    "delta = datetime.now() - start\n",
    "print(f'end: {datetime.now().strftime(\"%H:%M:%S\")}')\n",
    "print(f'duration: {delta} s')\n"
   ]
  }
 ],
 "metadata": {
  "kernelspec": {
   "display_name": "Python 3",
   "language": "python",
   "name": "python3"
  },
  "language_info": {
   "codemirror_mode": {
    "name": "ipython",
    "version": 3
   },
   "file_extension": ".py",
   "mimetype": "text/x-python",
   "name": "python",
   "nbconvert_exporter": "python",
   "pygments_lexer": "ipython3",
   "version": "3.7.1"
  },
  "varInspector": {
   "cols": {
    "lenName": 16,
    "lenType": 16,
    "lenVar": 40
   },
   "kernels_config": {
    "python": {
     "delete_cmd_postfix": "",
     "delete_cmd_prefix": "del ",
     "library": "var_list.py",
     "varRefreshCmd": "print(var_dic_list())"
    },
    "r": {
     "delete_cmd_postfix": ") ",
     "delete_cmd_prefix": "rm(",
     "library": "var_list.r",
     "varRefreshCmd": "cat(var_dic_list()) "
    }
   },
   "position": {
    "height": "144px",
    "left": "1565px",
    "right": "20px",
    "top": "123px",
    "width": "350px"
   },
   "types_to_exclude": [
    "module",
    "function",
    "builtin_function_or_method",
    "instance",
    "_Feature"
   ],
   "window_display": false
  }
 },
 "nbformat": 4,
 "nbformat_minor": 2
}
